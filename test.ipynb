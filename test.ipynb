{
 "cells": [
  {
   "cell_type": "code",
   "execution_count": 3,
   "metadata": {},
   "outputs": [],
   "source": [
    "import json\n",
    "import networkx as nx\n",
    "import requests\n",
    "import os\n",
    "from dotenv import load_dotenv\n",
    "import pandas as pd\n",
    "import time\n",
    "\n",
    "# class Node:\n",
    "#     def __init__(self, address, value):\n",
    "#         self.address = address\n",
    "#         self.value = value\n",
    "\n",
    "load_dotenv()\n",
    "api_key = os.getenv(\"covalent_key\")\n",
    "host = \"https://api.covalenthq.com\"\n",
    "\n",
    "G = nx.MultiDiGraph()\n",
    "\n",
    "FTX_ADDRESS = '0x2FAF487A4414Fe77e2327F0bf4AE2a264a776AD2'\n",
    "\n",
    "df = pd.DataFrame(columns=['tx_hash', 'from_address', 'to_address','transfer_type', 'delta'])  \n",
    "\n",
    "node_list = []\n",
    "\n",
    "def get_parent(myaddress, count):\n",
    "\n",
    "    if(myaddress == FTX_ADDRESS or count >= 5):\n",
    "        return\n",
    "\n",
    "    endpoint = \"/v1/1/address/{address}/transfers_v2/?contract-address=0x50D1c9771902476076eCFc8B2A83Ad6b9355a4c9&key={API_KEY}\"\n",
    "\n",
    "    print(\"starting json stuff\")\n",
    "    \n",
    "    try:\n",
    "        endpoint = endpoint.format(address = myaddress, API_KEY = api_key)\n",
    "        newrequest = requests.get(host+endpoint)\n",
    "        new_json_data = json.loads(newrequest.text)\n",
    "    \n",
    "        print(\"json stuff done\")\n",
    "\n",
    "        mylist = []\n",
    "        print(count)\n",
    "\n",
    "        for stuff in new_json_data['data']['items']:\n",
    "            if(stuff['transfers'][0]['tx_hash'] not in df['tx_hash']):\n",
    "                \n",
    "                mylist.append(stuff['transfers'][0]['from_address'])\n",
    "\n",
    "                df.loc[len(df.index)] = [stuff['transfers'][0]['tx_hash'],stuff['transfers'][0]['from_address'], stuff['transfers'][0]['to_address'], stuff['transfers'][0]['transfer_type'],stuff['transfers'][0]['delta']]\n",
    "\n",
    "                if(stuff['transfers'][0]['from_address'] not in node_list):\n",
    "                    node_list.append(stuff['transfers'][0]['from_address'])\n",
    "                    G.add_node(stuff['transfers'][0]['from_address'])\n",
    "                \n",
    "                if(stuff['transfers'][0]['to_address'] not in node_list):\n",
    "                    node_list.append(stuff['transfers'][0]['to_address'])\n",
    "                    G.add_node(stuff['transfers'][0]['to_address'])\n",
    "                    \n",
    "                G.add_edge(stuff['transfers'][0]['from_address'], stuff['transfers'][0]['to_address'])\n",
    "\n",
    "\n",
    "        nx.draw(G)\n",
    "        time.sleep(1)\n",
    "\n",
    "        for ad in mylist:\n",
    "            get_parent(ad, count+1)\n",
    "\n",
    "    except:\n",
    "        print(f\"Json stuff failed as address was {myaddress}\")"
   ]
  }
 ],
 "metadata": {
  "kernelspec": {
   "display_name": "Python 3",
   "language": "python",
   "name": "python3"
  },
  "language_info": {
   "codemirror_mode": {
    "name": "ipython",
    "version": 3
   },
   "file_extension": ".py",
   "mimetype": "text/x-python",
   "name": "python",
   "nbconvert_exporter": "python",
   "pygments_lexer": "ipython3",
   "version": "3.10.1"
  },
  "orig_nbformat": 4,
  "vscode": {
   "interpreter": {
    "hash": "58164309946c612fc507d0d6d8699a715151dc4863980eabb281ce3069677ab7"
   }
  }
 },
 "nbformat": 4,
 "nbformat_minor": 2
}
